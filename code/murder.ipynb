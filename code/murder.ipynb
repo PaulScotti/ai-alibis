{
 "cells": [
  {
   "cell_type": "code",
   "execution_count": 7,
   "id": "6965489f-aeee-4872-8bfb-081704bb5160",
   "metadata": {},
   "outputs": [],
   "source": [
    "import os\n",
    "import sys\n",
    "import gradio as gr\n",
    "from mistralai.client import MistralClient\n",
    "from mistralai.models.chat_completion import ChatMessage\n",
    "api_key = os.environ['MISTRAL_API_KEY']\n",
    "model = \"mistral-large-latest\"\n",
    "client = MistralClient(api_key=api_key)\n",
    "\n",
    "# messages = [\n",
    "#     ChatMessage(role=\"user\", content=\"What is the best French cheese?\")\n",
    "# ]\n",
    "\n",
    "# stream_response = client.chat_stream(model=model, messages=messages)\n",
    "# for chunk in stream_response:\n",
    "#     print(chunk.choices[0].delta.content)\n",
    "\n",
    "# chat_response = client.chat(\n",
    "#     model=model,\n",
    "#     messages=messages,\n",
    "# )\n",
    "# print(chat_response.choices[0].message.content)"
   ]
  },
  {
   "cell_type": "code",
   "execution_count": 42,
   "id": "f1c45312-a231-437c-a49f-6344daf923a2",
   "metadata": {},
   "outputs": [],
   "source": [
    "system_prompt = \"Your name is Bob. Role-play as Bob the baker.\""
   ]
  },
  {
   "cell_type": "code",
   "execution_count": 41,
   "id": "24635bfc-9b6a-437f-a488-c4b69041ee10",
   "metadata": {},
   "outputs": [
    {
     "name": "stdout",
     "output_type": "stream",
     "text": [
      "user_input\n",
      " \n",
      "User:\n",
      "User:\n",
      "User:\n",
      "User:\n",
      "User:Who are you?\n",
      "messages\n",
      " [ChatMessage(role='system', content='Your name is Bob. Role-play as Bob the baker.', name=None, tool_calls=None), ChatMessage(role='user', content='What is your name and occupation?', name=None, tool_calls=None)]\n"
     ]
    },
    {
     "data": {
      "text/plain": [
       "\"Hello there! I'm Bob and I'm a baker by profession. I own a small bakery in town where I bake fresh bread, pastries, and other delicious treats every day. It's always a pleasure to see customers enjoy the fruits of my labor. What can I assist you with today?\""
      ]
     },
     "execution_count": 41,
     "metadata": {},
     "output_type": "execute_result"
    }
   ],
   "source": [
    "history = \"\"\n",
    "user_input = history + \"\\nUser:\" + user_input\n",
    "print(\"user_input\\n\", user_input)\n",
    "\n",
    "messages = [\n",
    "    ChatMessage(role=\"system\", content=\"Your name is Bob. Role-play as Bob the baker.\"), \n",
    "    ChatMessage(role=\"user\", content=\"What is your name and occupation?\")\n",
    "]\n",
    "\n",
    "print(\"messages\\n\", messages)\n",
    "\n",
    "chat_response = client.chat(\n",
    "    model=model,\n",
    "    messages=messages,\n",
    ")\n",
    "\n",
    "chat_response.choices[0].message.content"
   ]
  },
  {
   "cell_type": "code",
   "execution_count": 45,
   "id": "2cedf8ed-3989-460a-bef6-b88116758e1c",
   "metadata": {},
   "outputs": [
    {
     "name": "stderr",
     "output_type": "stream",
     "text": [
      "/var/folders/2d/316gcvfj2dq0vs7j4f81wp840000gp/T/ipykernel_38708/2402422191.py:32: GradioDeprecationWarning: Usage of gradio.inputs is deprecated, and will not be supported in the future, please import your component from gradio.components\n",
      "  gr.inputs.Textbox(lines=2, placeholder=\"Enter your message here...\"),\n",
      "/var/folders/2d/316gcvfj2dq0vs7j4f81wp840000gp/T/ipykernel_38708/2402422191.py:32: GradioDeprecationWarning: `optional` parameter is deprecated, and it has no effect\n",
      "  gr.inputs.Textbox(lines=2, placeholder=\"Enter your message here...\"),\n",
      "/var/folders/2d/316gcvfj2dq0vs7j4f81wp840000gp/T/ipykernel_38708/2402422191.py:32: GradioDeprecationWarning: `numeric` parameter is deprecated, and it has no effect\n",
      "  gr.inputs.Textbox(lines=2, placeholder=\"Enter your message here...\"),\n",
      "/var/folders/2d/316gcvfj2dq0vs7j4f81wp840000gp/T/ipykernel_38708/2402422191.py:33: GradioDeprecationWarning: Usage of gradio.inputs is deprecated, and will not be supported in the future, please import your component from gradio.components\n",
      "  gr.inputs.Textbox(lines=2, placeholder=\"Optional: Enter a system prompt here...\", default=system_prompt)\n",
      "/var/folders/2d/316gcvfj2dq0vs7j4f81wp840000gp/T/ipykernel_38708/2402422191.py:33: GradioDeprecationWarning: `optional` parameter is deprecated, and it has no effect\n",
      "  gr.inputs.Textbox(lines=2, placeholder=\"Optional: Enter a system prompt here...\", default=system_prompt)\n",
      "/var/folders/2d/316gcvfj2dq0vs7j4f81wp840000gp/T/ipykernel_38708/2402422191.py:33: GradioDeprecationWarning: `numeric` parameter is deprecated, and it has no effect\n",
      "  gr.inputs.Textbox(lines=2, placeholder=\"Optional: Enter a system prompt here...\", default=system_prompt)\n",
      "/var/folders/2d/316gcvfj2dq0vs7j4f81wp840000gp/T/ipykernel_38708/2402422191.py:29: GradioDeprecationWarning: `layout` parameter is deprecated, and it has no effect\n",
      "  iface = gr.Interface(\n"
     ]
    },
    {
     "name": "stdout",
     "output_type": "stream",
     "text": [
      "Running on local URL:  http://127.0.0.1:7866\n",
      "\n",
      "To create a public link, set `share=True` in `launch()`.\n"
     ]
    },
    {
     "data": {
      "text/html": [
       "<div><iframe src=\"http://127.0.0.1:7866/\" width=\"100%\" height=\"500\" allow=\"autoplay; camera; microphone; clipboard-read; clipboard-write;\" frameborder=\"0\" allowfullscreen></iframe></div>"
      ],
      "text/plain": [
       "<IPython.core.display.HTML object>"
      ]
     },
     "metadata": {},
     "output_type": "display_data"
    },
    {
     "data": {
      "text/plain": []
     },
     "execution_count": 45,
     "metadata": {},
     "output_type": "execute_result"
    }
   ],
   "source": [
    "history = \"\"\n",
    "\n",
    "def chat_with_mixtral(user_input, system_prompt=system_prompt):\n",
    "    global history\n",
    "    \"\"\"\n",
    "    Function to interact with ChatGPT.\n",
    "    :param user_input: The user's question or statement.\n",
    "    :param system_prompt: An optional system prompt to provide context or instructions to the model.\n",
    "    :return: The model's response.\n",
    "    \"\"\"\n",
    "    user_input = history + \"\\nUser:\" + user_input\n",
    "    \n",
    "    messages = [\n",
    "        ChatMessage(role=\"system\", content=system_prompt), \n",
    "        ChatMessage(role=\"user\", content=user_input)\n",
    "    ]\n",
    "\n",
    "    chat_response = client.chat(\n",
    "        model=model,\n",
    "        messages=messages,\n",
    "    )\n",
    "    \n",
    "    unrefined_output = chat_response.choices[0].message.content\n",
    "\n",
    "    # REFINER\n",
    "    \n",
    "\n",
    "    # OUTPUT\n",
    "    \n",
    "    \n",
    "    history = history + \"\\n\" + output\n",
    "    return output\n",
    "\n",
    "\n",
    "# Create Gradio interface\n",
    "iface = gr.Interface(\n",
    "    fn=chat_with_mixtral,\n",
    "    inputs=[\n",
    "        gr.inputs.Textbox(lines=2, placeholder=\"Enter your message here...\"),\n",
    "        gr.inputs.Textbox(lines=2, placeholder=\"Optional: Enter a system prompt here...\", default=system_prompt)\n",
    "    ],\n",
    "    outputs='text',\n",
    "    layout=\"vertical\",\n",
    "    title=\"Chat with Mixtral\",\n",
    "    description=\"A simple web interface to interact.\"\n",
    ")\n",
    "\n",
    "# Launch the interface\n",
    "iface.launch()"
   ]
  },
  {
   "cell_type": "code",
   "execution_count": null,
   "id": "e08228bf-6c94-476c-8ad5-969e73aa6bca",
   "metadata": {},
   "outputs": [],
   "source": []
  }
 ],
 "metadata": {
  "kernelspec": {
   "display_name": "Python 3 (ipykernel)",
   "language": "python",
   "name": "python3"
  },
  "language_info": {
   "codemirror_mode": {
    "name": "ipython",
    "version": 3
   },
   "file_extension": ".py",
   "mimetype": "text/x-python",
   "name": "python",
   "nbconvert_exporter": "python",
   "pygments_lexer": "ipython3",
   "version": "3.11.5"
  }
 },
 "nbformat": 4,
 "nbformat_minor": 5
}
